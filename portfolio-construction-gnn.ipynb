{
 "cells": [
  {
   "cell_type": "markdown",
   "id": "e09e5264",
   "metadata": {},
   "source": [
    "# Portfolio Construction with GNN\n",
    "***\n",
    "*Ivan Jordanov*"
   ]
  },
  {
   "cell_type": "code",
   "execution_count": 1,
   "id": "e04b2d3d",
   "metadata": {
    "ExecuteTime": {
     "end_time": "2022-12-06T15:19:14.565372Z",
     "start_time": "2022-12-06T15:19:12.149598Z"
    }
   },
   "outputs": [],
   "source": [
    "import pandas as pd\n",
    "import numpy as np\n",
    "import datetime as dt\n",
    "from time import time\n",
    "import finnhub\n",
    "import networkx as nx\n",
    "from datetime import datetime\n",
    "import math\n",
    "from sklearn.feature_selection import mutual_info_regression as mi_reg"
   ]
  },
  {
   "cell_type": "code",
   "execution_count": 2,
   "id": "d1a10fee",
   "metadata": {
    "ExecuteTime": {
     "end_time": "2022-12-06T15:19:15.471139Z",
     "start_time": "2022-12-06T15:19:15.276104Z"
    }
   },
   "outputs": [],
   "source": [
    "df = pd.read_csv('s&p500.csv')"
   ]
  },
  {
   "cell_type": "code",
   "execution_count": 3,
   "id": "eb987cca",
   "metadata": {
    "ExecuteTime": {
     "end_time": "2022-12-06T15:19:15.891830Z",
     "start_time": "2022-12-06T15:19:15.861829Z"
    }
   },
   "outputs": [
    {
     "data": {
      "text/html": [
       "<div>\n",
       "<style scoped>\n",
       "    .dataframe tbody tr th:only-of-type {\n",
       "        vertical-align: middle;\n",
       "    }\n",
       "\n",
       "    .dataframe tbody tr th {\n",
       "        vertical-align: top;\n",
       "    }\n",
       "\n",
       "    .dataframe thead th {\n",
       "        text-align: right;\n",
       "    }\n",
       "</style>\n",
       "<table border=\"1\" class=\"dataframe\">\n",
       "  <thead>\n",
       "    <tr style=\"text-align: right;\">\n",
       "      <th></th>\n",
       "      <th>Unnamed: 0</th>\n",
       "      <th>Datetime</th>\n",
       "      <th>MMM</th>\n",
       "      <th>AOS</th>\n",
       "      <th>ABT</th>\n",
       "      <th>ABBV</th>\n",
       "      <th>ABMD</th>\n",
       "      <th>ACN</th>\n",
       "      <th>ATVI</th>\n",
       "      <th>ADM</th>\n",
       "      <th>...</th>\n",
       "      <th>WTW</th>\n",
       "      <th>GWW</th>\n",
       "      <th>WYNN</th>\n",
       "      <th>XEL</th>\n",
       "      <th>XYL</th>\n",
       "      <th>YUM</th>\n",
       "      <th>ZBRA</th>\n",
       "      <th>ZBH</th>\n",
       "      <th>ZION</th>\n",
       "      <th>ZTS</th>\n",
       "    </tr>\n",
       "  </thead>\n",
       "  <tbody>\n",
       "    <tr>\n",
       "      <th>0</th>\n",
       "      <td>0</td>\n",
       "      <td>2012-01-03</td>\n",
       "      <td>83.49</td>\n",
       "      <td>10.3175</td>\n",
       "      <td>27.1390</td>\n",
       "      <td>35.00</td>\n",
       "      <td>18.25</td>\n",
       "      <td>52.95</td>\n",
       "      <td>12.200</td>\n",
       "      <td>28.89</td>\n",
       "      <td>...</td>\n",
       "      <td>102.78120</td>\n",
       "      <td>185.59</td>\n",
       "      <td>111.2888</td>\n",
       "      <td>27.34</td>\n",
       "      <td>25.14</td>\n",
       "      <td>42.1150</td>\n",
       "      <td>35.72</td>\n",
       "      <td>52.3284</td>\n",
       "      <td>16.765</td>\n",
       "      <td>31.01</td>\n",
       "    </tr>\n",
       "    <tr>\n",
       "      <th>1</th>\n",
       "      <td>1</td>\n",
       "      <td>2012-01-04</td>\n",
       "      <td>84.18</td>\n",
       "      <td>10.4825</td>\n",
       "      <td>27.0337</td>\n",
       "      <td>35.32</td>\n",
       "      <td>18.11</td>\n",
       "      <td>52.93</td>\n",
       "      <td>12.105</td>\n",
       "      <td>29.37</td>\n",
       "      <td>...</td>\n",
       "      <td>102.19842</td>\n",
       "      <td>187.87</td>\n",
       "      <td>109.3749</td>\n",
       "      <td>27.16</td>\n",
       "      <td>25.97</td>\n",
       "      <td>42.4026</td>\n",
       "      <td>35.45</td>\n",
       "      <td>51.6202</td>\n",
       "      <td>17.140</td>\n",
       "      <td>31.02</td>\n",
       "    </tr>\n",
       "    <tr>\n",
       "      <th>2</th>\n",
       "      <td>2</td>\n",
       "      <td>2012-01-05</td>\n",
       "      <td>83.80</td>\n",
       "      <td>10.5025</td>\n",
       "      <td>26.9715</td>\n",
       "      <td>33.36</td>\n",
       "      <td>18.27</td>\n",
       "      <td>51.92</td>\n",
       "      <td>12.110</td>\n",
       "      <td>29.24</td>\n",
       "      <td>...</td>\n",
       "      <td>103.97325</td>\n",
       "      <td>190.20</td>\n",
       "      <td>108.2325</td>\n",
       "      <td>27.28</td>\n",
       "      <td>25.60</td>\n",
       "      <td>42.7262</td>\n",
       "      <td>35.40</td>\n",
       "      <td>52.2314</td>\n",
       "      <td>17.620</td>\n",
       "      <td>31.04</td>\n",
       "    </tr>\n",
       "    <tr>\n",
       "      <th>3</th>\n",
       "      <td>3</td>\n",
       "      <td>2012-01-06</td>\n",
       "      <td>83.37</td>\n",
       "      <td>10.4350</td>\n",
       "      <td>26.7275</td>\n",
       "      <td>33.80</td>\n",
       "      <td>18.14</td>\n",
       "      <td>51.83</td>\n",
       "      <td>12.240</td>\n",
       "      <td>29.07</td>\n",
       "      <td>...</td>\n",
       "      <td>103.09908</td>\n",
       "      <td>190.34</td>\n",
       "      <td>104.4242</td>\n",
       "      <td>27.20</td>\n",
       "      <td>25.17</td>\n",
       "      <td>43.0354</td>\n",
       "      <td>35.11</td>\n",
       "      <td>52.3672</td>\n",
       "      <td>17.640</td>\n",
       "      <td>31.03</td>\n",
       "    </tr>\n",
       "    <tr>\n",
       "      <th>4</th>\n",
       "      <td>4</td>\n",
       "      <td>2012-01-09</td>\n",
       "      <td>83.87</td>\n",
       "      <td>10.4925</td>\n",
       "      <td>26.7227</td>\n",
       "      <td>33.00</td>\n",
       "      <td>18.21</td>\n",
       "      <td>51.74</td>\n",
       "      <td>12.200</td>\n",
       "      <td>28.91</td>\n",
       "      <td>...</td>\n",
       "      <td>102.22491</td>\n",
       "      <td>191.13</td>\n",
       "      <td>104.1313</td>\n",
       "      <td>27.22</td>\n",
       "      <td>25.27</td>\n",
       "      <td>42.8700</td>\n",
       "      <td>34.95</td>\n",
       "      <td>52.7553</td>\n",
       "      <td>17.880</td>\n",
       "      <td>32.00</td>\n",
       "    </tr>\n",
       "  </tbody>\n",
       "</table>\n",
       "<p>5 rows × 505 columns</p>\n",
       "</div>"
      ],
      "text/plain": [
       "   Unnamed: 0    Datetime    MMM      AOS      ABT   ABBV   ABMD    ACN  \\\n",
       "0           0  2012-01-03  83.49  10.3175  27.1390  35.00  18.25  52.95   \n",
       "1           1  2012-01-04  84.18  10.4825  27.0337  35.32  18.11  52.93   \n",
       "2           2  2012-01-05  83.80  10.5025  26.9715  33.36  18.27  51.92   \n",
       "3           3  2012-01-06  83.37  10.4350  26.7275  33.80  18.14  51.83   \n",
       "4           4  2012-01-09  83.87  10.4925  26.7227  33.00  18.21  51.74   \n",
       "\n",
       "     ATVI    ADM  ...        WTW     GWW      WYNN    XEL    XYL      YUM  \\\n",
       "0  12.200  28.89  ...  102.78120  185.59  111.2888  27.34  25.14  42.1150   \n",
       "1  12.105  29.37  ...  102.19842  187.87  109.3749  27.16  25.97  42.4026   \n",
       "2  12.110  29.24  ...  103.97325  190.20  108.2325  27.28  25.60  42.7262   \n",
       "3  12.240  29.07  ...  103.09908  190.34  104.4242  27.20  25.17  43.0354   \n",
       "4  12.200  28.91  ...  102.22491  191.13  104.1313  27.22  25.27  42.8700   \n",
       "\n",
       "    ZBRA      ZBH    ZION    ZTS  \n",
       "0  35.72  52.3284  16.765  31.01  \n",
       "1  35.45  51.6202  17.140  31.02  \n",
       "2  35.40  52.2314  17.620  31.04  \n",
       "3  35.11  52.3672  17.640  31.03  \n",
       "4  34.95  52.7553  17.880  32.00  \n",
       "\n",
       "[5 rows x 505 columns]"
      ]
     },
     "execution_count": 3,
     "metadata": {},
     "output_type": "execute_result"
    }
   ],
   "source": [
    "df.head()"
   ]
  },
  {
   "cell_type": "code",
   "execution_count": 4,
   "id": "85676d5a",
   "metadata": {
    "ExecuteTime": {
     "end_time": "2022-12-06T15:19:18.366014Z",
     "start_time": "2022-12-06T15:19:18.353011Z"
    }
   },
   "outputs": [],
   "source": [
    "df.drop('Unnamed: 0', axis=1, inplace=True)"
   ]
  },
  {
   "cell_type": "code",
   "execution_count": 5,
   "id": "b20af7d7",
   "metadata": {
    "ExecuteTime": {
     "end_time": "2022-12-06T15:19:18.961631Z",
     "start_time": "2022-12-06T15:19:18.953631Z"
    }
   },
   "outputs": [],
   "source": [
    "final = df.set_index('Datetime')"
   ]
  },
  {
   "cell_type": "code",
   "execution_count": 6,
   "id": "64681ccd",
   "metadata": {
    "ExecuteTime": {
     "end_time": "2022-12-06T15:19:20.891221Z",
     "start_time": "2022-12-06T15:19:20.870221Z"
    }
   },
   "outputs": [],
   "source": [
    "neg = final.copy(deep=True)"
   ]
  },
  {
   "cell_type": "code",
   "execution_count": 7,
   "id": "4217a79f",
   "metadata": {
    "ExecuteTime": {
     "end_time": "2022-12-06T15:19:21.541995Z",
     "start_time": "2022-12-06T15:19:21.533032Z"
    }
   },
   "outputs": [],
   "source": [
    "def remove_coins_with_negative_return(df):\n",
    "    returns = df.iloc[-1].values - df.iloc[0].values\n",
    "    for (index, colname) in enumerate(df):\n",
    "        if returns[index] < 0:\n",
    "            df=df.drop(colname, axis=1)\n",
    "            \n",
    "    return df"
   ]
  },
  {
   "cell_type": "code",
   "execution_count": 8,
   "id": "64a4c2a9",
   "metadata": {
    "ExecuteTime": {
     "end_time": "2022-12-06T15:19:22.279168Z",
     "start_time": "2022-12-06T15:19:22.103112Z"
    }
   },
   "outputs": [],
   "source": [
    "neg = remove_coins_with_negative_return(neg)"
   ]
  },
  {
   "cell_type": "code",
   "execution_count": 9,
   "id": "dba39d72",
   "metadata": {
    "ExecuteTime": {
     "end_time": "2022-12-06T15:19:23.274114Z",
     "start_time": "2022-12-06T15:19:23.241080Z"
    }
   },
   "outputs": [
    {
     "data": {
      "text/html": [
       "<div>\n",
       "<style scoped>\n",
       "    .dataframe tbody tr th:only-of-type {\n",
       "        vertical-align: middle;\n",
       "    }\n",
       "\n",
       "    .dataframe tbody tr th {\n",
       "        vertical-align: top;\n",
       "    }\n",
       "\n",
       "    .dataframe thead th {\n",
       "        text-align: right;\n",
       "    }\n",
       "</style>\n",
       "<table border=\"1\" class=\"dataframe\">\n",
       "  <thead>\n",
       "    <tr style=\"text-align: right;\">\n",
       "      <th></th>\n",
       "      <th>MMM</th>\n",
       "      <th>AOS</th>\n",
       "      <th>ABT</th>\n",
       "      <th>ABBV</th>\n",
       "      <th>ABMD</th>\n",
       "      <th>ACN</th>\n",
       "      <th>ATVI</th>\n",
       "      <th>ADM</th>\n",
       "      <th>ADBE</th>\n",
       "      <th>ADP</th>\n",
       "      <th>...</th>\n",
       "      <th>WMB</th>\n",
       "      <th>WTW</th>\n",
       "      <th>GWW</th>\n",
       "      <th>XEL</th>\n",
       "      <th>XYL</th>\n",
       "      <th>YUM</th>\n",
       "      <th>ZBRA</th>\n",
       "      <th>ZBH</th>\n",
       "      <th>ZION</th>\n",
       "      <th>ZTS</th>\n",
       "    </tr>\n",
       "    <tr>\n",
       "      <th>Datetime</th>\n",
       "      <th></th>\n",
       "      <th></th>\n",
       "      <th></th>\n",
       "      <th></th>\n",
       "      <th></th>\n",
       "      <th></th>\n",
       "      <th></th>\n",
       "      <th></th>\n",
       "      <th></th>\n",
       "      <th></th>\n",
       "      <th></th>\n",
       "      <th></th>\n",
       "      <th></th>\n",
       "      <th></th>\n",
       "      <th></th>\n",
       "      <th></th>\n",
       "      <th></th>\n",
       "      <th></th>\n",
       "      <th></th>\n",
       "      <th></th>\n",
       "      <th></th>\n",
       "    </tr>\n",
       "  </thead>\n",
       "  <tbody>\n",
       "    <tr>\n",
       "      <th>2012-01-03</th>\n",
       "      <td>83.49</td>\n",
       "      <td>10.3175</td>\n",
       "      <td>27.1390</td>\n",
       "      <td>35.00</td>\n",
       "      <td>18.25</td>\n",
       "      <td>52.95</td>\n",
       "      <td>12.200</td>\n",
       "      <td>28.89</td>\n",
       "      <td>28.57</td>\n",
       "      <td>47.7760</td>\n",
       "      <td>...</td>\n",
       "      <td>26.82</td>\n",
       "      <td>102.78120</td>\n",
       "      <td>185.59</td>\n",
       "      <td>27.34</td>\n",
       "      <td>25.14</td>\n",
       "      <td>42.1150</td>\n",
       "      <td>35.72</td>\n",
       "      <td>52.3284</td>\n",
       "      <td>16.765</td>\n",
       "      <td>31.01</td>\n",
       "    </tr>\n",
       "    <tr>\n",
       "      <th>2012-01-04</th>\n",
       "      <td>84.18</td>\n",
       "      <td>10.4825</td>\n",
       "      <td>27.0337</td>\n",
       "      <td>35.32</td>\n",
       "      <td>18.11</td>\n",
       "      <td>52.93</td>\n",
       "      <td>12.105</td>\n",
       "      <td>29.37</td>\n",
       "      <td>28.28</td>\n",
       "      <td>47.7190</td>\n",
       "      <td>...</td>\n",
       "      <td>26.98</td>\n",
       "      <td>102.19842</td>\n",
       "      <td>187.87</td>\n",
       "      <td>27.16</td>\n",
       "      <td>25.97</td>\n",
       "      <td>42.4026</td>\n",
       "      <td>35.45</td>\n",
       "      <td>51.6202</td>\n",
       "      <td>17.140</td>\n",
       "      <td>31.02</td>\n",
       "    </tr>\n",
       "    <tr>\n",
       "      <th>2012-01-05</th>\n",
       "      <td>83.80</td>\n",
       "      <td>10.5025</td>\n",
       "      <td>26.9715</td>\n",
       "      <td>33.36</td>\n",
       "      <td>18.27</td>\n",
       "      <td>51.92</td>\n",
       "      <td>12.110</td>\n",
       "      <td>29.24</td>\n",
       "      <td>28.48</td>\n",
       "      <td>48.0743</td>\n",
       "      <td>...</td>\n",
       "      <td>27.55</td>\n",
       "      <td>103.97325</td>\n",
       "      <td>190.20</td>\n",
       "      <td>27.28</td>\n",
       "      <td>25.60</td>\n",
       "      <td>42.7262</td>\n",
       "      <td>35.40</td>\n",
       "      <td>52.2314</td>\n",
       "      <td>17.620</td>\n",
       "      <td>31.04</td>\n",
       "    </tr>\n",
       "    <tr>\n",
       "      <th>2012-01-06</th>\n",
       "      <td>83.37</td>\n",
       "      <td>10.4350</td>\n",
       "      <td>26.7275</td>\n",
       "      <td>33.80</td>\n",
       "      <td>18.14</td>\n",
       "      <td>51.83</td>\n",
       "      <td>12.240</td>\n",
       "      <td>29.07</td>\n",
       "      <td>28.72</td>\n",
       "      <td>48.1445</td>\n",
       "      <td>...</td>\n",
       "      <td>27.39</td>\n",
       "      <td>103.09908</td>\n",
       "      <td>190.34</td>\n",
       "      <td>27.20</td>\n",
       "      <td>25.17</td>\n",
       "      <td>43.0354</td>\n",
       "      <td>35.11</td>\n",
       "      <td>52.3672</td>\n",
       "      <td>17.640</td>\n",
       "      <td>31.03</td>\n",
       "    </tr>\n",
       "    <tr>\n",
       "      <th>2012-01-09</th>\n",
       "      <td>83.87</td>\n",
       "      <td>10.4925</td>\n",
       "      <td>26.7227</td>\n",
       "      <td>33.00</td>\n",
       "      <td>18.21</td>\n",
       "      <td>51.74</td>\n",
       "      <td>12.200</td>\n",
       "      <td>28.91</td>\n",
       "      <td>28.53</td>\n",
       "      <td>47.9602</td>\n",
       "      <td>...</td>\n",
       "      <td>27.78</td>\n",
       "      <td>102.22491</td>\n",
       "      <td>191.13</td>\n",
       "      <td>27.22</td>\n",
       "      <td>25.27</td>\n",
       "      <td>42.8700</td>\n",
       "      <td>34.95</td>\n",
       "      <td>52.7553</td>\n",
       "      <td>17.880</td>\n",
       "      <td>32.00</td>\n",
       "    </tr>\n",
       "  </tbody>\n",
       "</table>\n",
       "<p>5 rows × 464 columns</p>\n",
       "</div>"
      ],
      "text/plain": [
       "              MMM      AOS      ABT   ABBV   ABMD    ACN    ATVI    ADM  \\\n",
       "Datetime                                                                  \n",
       "2012-01-03  83.49  10.3175  27.1390  35.00  18.25  52.95  12.200  28.89   \n",
       "2012-01-04  84.18  10.4825  27.0337  35.32  18.11  52.93  12.105  29.37   \n",
       "2012-01-05  83.80  10.5025  26.9715  33.36  18.27  51.92  12.110  29.24   \n",
       "2012-01-06  83.37  10.4350  26.7275  33.80  18.14  51.83  12.240  29.07   \n",
       "2012-01-09  83.87  10.4925  26.7227  33.00  18.21  51.74  12.200  28.91   \n",
       "\n",
       "             ADBE      ADP  ...    WMB        WTW     GWW    XEL    XYL  \\\n",
       "Datetime                    ...                                           \n",
       "2012-01-03  28.57  47.7760  ...  26.82  102.78120  185.59  27.34  25.14   \n",
       "2012-01-04  28.28  47.7190  ...  26.98  102.19842  187.87  27.16  25.97   \n",
       "2012-01-05  28.48  48.0743  ...  27.55  103.97325  190.20  27.28  25.60   \n",
       "2012-01-06  28.72  48.1445  ...  27.39  103.09908  190.34  27.20  25.17   \n",
       "2012-01-09  28.53  47.9602  ...  27.78  102.22491  191.13  27.22  25.27   \n",
       "\n",
       "                YUM   ZBRA      ZBH    ZION    ZTS  \n",
       "Datetime                                            \n",
       "2012-01-03  42.1150  35.72  52.3284  16.765  31.01  \n",
       "2012-01-04  42.4026  35.45  51.6202  17.140  31.02  \n",
       "2012-01-05  42.7262  35.40  52.2314  17.620  31.04  \n",
       "2012-01-06  43.0354  35.11  52.3672  17.640  31.03  \n",
       "2012-01-09  42.8700  34.95  52.7553  17.880  32.00  \n",
       "\n",
       "[5 rows x 464 columns]"
      ]
     },
     "execution_count": 9,
     "metadata": {},
     "output_type": "execute_result"
    }
   ],
   "source": [
    "neg.head()"
   ]
  },
  {
   "cell_type": "code",
   "execution_count": 10,
   "id": "e2b87804",
   "metadata": {
    "ExecuteTime": {
     "end_time": "2022-12-06T15:20:18.449059Z",
     "start_time": "2022-12-06T15:20:18.429936Z"
    }
   },
   "outputs": [],
   "source": [
    "returns = np.log(neg.iloc[-1].values) - np.log(neg.iloc[0].values)"
   ]
  },
  {
   "cell_type": "code",
   "execution_count": 11,
   "id": "3be55fdd",
   "metadata": {
    "ExecuteTime": {
     "end_time": "2022-12-06T15:20:18.823590Z",
     "start_time": "2022-12-06T15:20:18.817404Z"
    }
   },
   "outputs": [],
   "source": [
    "returns = np.nan_to_num(returns)"
   ]
  },
  {
   "cell_type": "code",
   "execution_count": 12,
   "id": "94793eed",
   "metadata": {
    "ExecuteTime": {
     "end_time": "2022-12-06T15:20:57.784205Z",
     "start_time": "2022-12-06T15:20:57.744204Z"
    }
   },
   "outputs": [],
   "source": [
    "log_returns1 = np.log(neg - np.log(neg.shift()))"
   ]
  },
  {
   "cell_type": "code",
   "execution_count": 13,
   "id": "050e027f",
   "metadata": {
    "ExecuteTime": {
     "end_time": "2022-12-06T15:20:58.934939Z",
     "start_time": "2022-12-06T15:20:58.897902Z"
    }
   },
   "outputs": [],
   "source": [
    "log_returns1.fillna(0, inplace=True)"
   ]
  },
  {
   "cell_type": "code",
   "execution_count": 14,
   "id": "ef82c53e",
   "metadata": {
    "ExecuteTime": {
     "end_time": "2022-12-06T15:21:09.625772Z",
     "start_time": "2022-12-06T15:21:07.791308Z"
    }
   },
   "outputs": [],
   "source": [
    "corr = log_returns1.corr('spearman')"
   ]
  },
  {
   "cell_type": "code",
   "execution_count": 15,
   "id": "930c2493",
   "metadata": {
    "ExecuteTime": {
     "end_time": "2022-12-06T15:21:09.749773Z",
     "start_time": "2022-12-06T15:21:09.720739Z"
    }
   },
   "outputs": [
    {
     "data": {
      "text/html": [
       "<div>\n",
       "<style scoped>\n",
       "    .dataframe tbody tr th:only-of-type {\n",
       "        vertical-align: middle;\n",
       "    }\n",
       "\n",
       "    .dataframe tbody tr th {\n",
       "        vertical-align: top;\n",
       "    }\n",
       "\n",
       "    .dataframe thead th {\n",
       "        text-align: right;\n",
       "    }\n",
       "</style>\n",
       "<table border=\"1\" class=\"dataframe\">\n",
       "  <thead>\n",
       "    <tr style=\"text-align: right;\">\n",
       "      <th></th>\n",
       "      <th>MMM</th>\n",
       "      <th>AOS</th>\n",
       "      <th>ABT</th>\n",
       "      <th>ABBV</th>\n",
       "      <th>ABMD</th>\n",
       "      <th>ACN</th>\n",
       "      <th>ATVI</th>\n",
       "      <th>ADM</th>\n",
       "      <th>ADBE</th>\n",
       "      <th>ADP</th>\n",
       "      <th>...</th>\n",
       "      <th>WMB</th>\n",
       "      <th>WTW</th>\n",
       "      <th>GWW</th>\n",
       "      <th>XEL</th>\n",
       "      <th>XYL</th>\n",
       "      <th>YUM</th>\n",
       "      <th>ZBRA</th>\n",
       "      <th>ZBH</th>\n",
       "      <th>ZION</th>\n",
       "      <th>ZTS</th>\n",
       "    </tr>\n",
       "  </thead>\n",
       "  <tbody>\n",
       "    <tr>\n",
       "      <th>MMM</th>\n",
       "      <td>1.000000</td>\n",
       "      <td>0.792196</td>\n",
       "      <td>0.561377</td>\n",
       "      <td>0.636915</td>\n",
       "      <td>0.742315</td>\n",
       "      <td>0.599462</td>\n",
       "      <td>0.671373</td>\n",
       "      <td>0.425763</td>\n",
       "      <td>0.613834</td>\n",
       "      <td>0.607845</td>\n",
       "      <td>...</td>\n",
       "      <td>-0.418210</td>\n",
       "      <td>0.600512</td>\n",
       "      <td>0.261305</td>\n",
       "      <td>0.564512</td>\n",
       "      <td>0.653975</td>\n",
       "      <td>0.603270</td>\n",
       "      <td>0.568556</td>\n",
       "      <td>0.695934</td>\n",
       "      <td>0.681721</td>\n",
       "      <td>0.600105</td>\n",
       "    </tr>\n",
       "    <tr>\n",
       "      <th>AOS</th>\n",
       "      <td>0.792196</td>\n",
       "      <td>1.000000</td>\n",
       "      <td>0.839448</td>\n",
       "      <td>0.468022</td>\n",
       "      <td>0.893260</td>\n",
       "      <td>0.892887</td>\n",
       "      <td>0.918798</td>\n",
       "      <td>0.647799</td>\n",
       "      <td>0.880610</td>\n",
       "      <td>0.877845</td>\n",
       "      <td>...</td>\n",
       "      <td>-0.444310</td>\n",
       "      <td>0.873098</td>\n",
       "      <td>0.603858</td>\n",
       "      <td>0.840505</td>\n",
       "      <td>0.895303</td>\n",
       "      <td>0.863966</td>\n",
       "      <td>0.843968</td>\n",
       "      <td>0.791654</td>\n",
       "      <td>0.904153</td>\n",
       "      <td>0.399848</td>\n",
       "    </tr>\n",
       "    <tr>\n",
       "      <th>ABT</th>\n",
       "      <td>0.561377</td>\n",
       "      <td>0.839448</td>\n",
       "      <td>1.000000</td>\n",
       "      <td>0.450273</td>\n",
       "      <td>0.878529</td>\n",
       "      <td>0.962018</td>\n",
       "      <td>0.904782</td>\n",
       "      <td>0.694243</td>\n",
       "      <td>0.963990</td>\n",
       "      <td>0.956546</td>\n",
       "      <td>...</td>\n",
       "      <td>-0.467692</td>\n",
       "      <td>0.959679</td>\n",
       "      <td>0.793162</td>\n",
       "      <td>0.941038</td>\n",
       "      <td>0.937420</td>\n",
       "      <td>0.944549</td>\n",
       "      <td>0.984908</td>\n",
       "      <td>0.835568</td>\n",
       "      <td>0.825391</td>\n",
       "      <td>0.443797</td>\n",
       "    </tr>\n",
       "    <tr>\n",
       "      <th>ABBV</th>\n",
       "      <td>0.636915</td>\n",
       "      <td>0.468022</td>\n",
       "      <td>0.450273</td>\n",
       "      <td>1.000000</td>\n",
       "      <td>0.499256</td>\n",
       "      <td>0.472185</td>\n",
       "      <td>0.557762</td>\n",
       "      <td>0.161340</td>\n",
       "      <td>0.544374</td>\n",
       "      <td>0.439401</td>\n",
       "      <td>...</td>\n",
       "      <td>-0.572549</td>\n",
       "      <td>0.502639</td>\n",
       "      <td>0.198690</td>\n",
       "      <td>0.489767</td>\n",
       "      <td>0.514544</td>\n",
       "      <td>0.454809</td>\n",
       "      <td>0.476466</td>\n",
       "      <td>0.629621</td>\n",
       "      <td>0.369877</td>\n",
       "      <td>0.866011</td>\n",
       "    </tr>\n",
       "    <tr>\n",
       "      <th>ABMD</th>\n",
       "      <td>0.742315</td>\n",
       "      <td>0.893260</td>\n",
       "      <td>0.878529</td>\n",
       "      <td>0.499256</td>\n",
       "      <td>1.000000</td>\n",
       "      <td>0.904605</td>\n",
       "      <td>0.911313</td>\n",
       "      <td>0.603785</td>\n",
       "      <td>0.909639</td>\n",
       "      <td>0.897943</td>\n",
       "      <td>...</td>\n",
       "      <td>-0.571648</td>\n",
       "      <td>0.878036</td>\n",
       "      <td>0.704496</td>\n",
       "      <td>0.859318</td>\n",
       "      <td>0.903688</td>\n",
       "      <td>0.887492</td>\n",
       "      <td>0.876657</td>\n",
       "      <td>0.775266</td>\n",
       "      <td>0.860739</td>\n",
       "      <td>0.524181</td>\n",
       "    </tr>\n",
       "  </tbody>\n",
       "</table>\n",
       "<p>5 rows × 464 columns</p>\n",
       "</div>"
      ],
      "text/plain": [
       "           MMM       AOS       ABT      ABBV      ABMD       ACN      ATVI  \\\n",
       "MMM   1.000000  0.792196  0.561377  0.636915  0.742315  0.599462  0.671373   \n",
       "AOS   0.792196  1.000000  0.839448  0.468022  0.893260  0.892887  0.918798   \n",
       "ABT   0.561377  0.839448  1.000000  0.450273  0.878529  0.962018  0.904782   \n",
       "ABBV  0.636915  0.468022  0.450273  1.000000  0.499256  0.472185  0.557762   \n",
       "ABMD  0.742315  0.893260  0.878529  0.499256  1.000000  0.904605  0.911313   \n",
       "\n",
       "           ADM      ADBE       ADP  ...       WMB       WTW       GWW  \\\n",
       "MMM   0.425763  0.613834  0.607845  ... -0.418210  0.600512  0.261305   \n",
       "AOS   0.647799  0.880610  0.877845  ... -0.444310  0.873098  0.603858   \n",
       "ABT   0.694243  0.963990  0.956546  ... -0.467692  0.959679  0.793162   \n",
       "ABBV  0.161340  0.544374  0.439401  ... -0.572549  0.502639  0.198690   \n",
       "ABMD  0.603785  0.909639  0.897943  ... -0.571648  0.878036  0.704496   \n",
       "\n",
       "           XEL       XYL       YUM      ZBRA       ZBH      ZION       ZTS  \n",
       "MMM   0.564512  0.653975  0.603270  0.568556  0.695934  0.681721  0.600105  \n",
       "AOS   0.840505  0.895303  0.863966  0.843968  0.791654  0.904153  0.399848  \n",
       "ABT   0.941038  0.937420  0.944549  0.984908  0.835568  0.825391  0.443797  \n",
       "ABBV  0.489767  0.514544  0.454809  0.476466  0.629621  0.369877  0.866011  \n",
       "ABMD  0.859318  0.903688  0.887492  0.876657  0.775266  0.860739  0.524181  \n",
       "\n",
       "[5 rows x 464 columns]"
      ]
     },
     "execution_count": 15,
     "metadata": {},
     "output_type": "execute_result"
    }
   ],
   "source": [
    "corr.head()"
   ]
  },
  {
   "cell_type": "code",
   "execution_count": 16,
   "id": "7d53c0a8",
   "metadata": {
    "ExecuteTime": {
     "end_time": "2022-12-06T15:21:19.733677Z",
     "start_time": "2022-12-06T15:21:19.714677Z"
    }
   },
   "outputs": [],
   "source": [
    "def calculate_distance_data_frame_from_correlation_matrix(x):\n",
    "    return np.sqrt(2 * (1 - x))"
   ]
  },
  {
   "cell_type": "code",
   "execution_count": 17,
   "id": "bc780a10",
   "metadata": {
    "ExecuteTime": {
     "end_time": "2022-12-06T15:21:21.293314Z",
     "start_time": "2022-12-06T15:21:21.142310Z"
    }
   },
   "outputs": [],
   "source": [
    "result = corr.apply(lambda x: calculate_distance_data_frame_from_correlation_matrix(x))\n",
    "result = result.replace(np.nan,1.41)"
   ]
  },
  {
   "cell_type": "code",
   "execution_count": 18,
   "id": "d58d4e88",
   "metadata": {
    "ExecuteTime": {
     "end_time": "2022-12-06T15:21:22.709646Z",
     "start_time": "2022-12-06T15:21:22.681612Z"
    }
   },
   "outputs": [
    {
     "data": {
      "text/html": [
       "<div>\n",
       "<style scoped>\n",
       "    .dataframe tbody tr th:only-of-type {\n",
       "        vertical-align: middle;\n",
       "    }\n",
       "\n",
       "    .dataframe tbody tr th {\n",
       "        vertical-align: top;\n",
       "    }\n",
       "\n",
       "    .dataframe thead th {\n",
       "        text-align: right;\n",
       "    }\n",
       "</style>\n",
       "<table border=\"1\" class=\"dataframe\">\n",
       "  <thead>\n",
       "    <tr style=\"text-align: right;\">\n",
       "      <th></th>\n",
       "      <th>MMM</th>\n",
       "      <th>AOS</th>\n",
       "      <th>ABT</th>\n",
       "      <th>ABBV</th>\n",
       "      <th>ABMD</th>\n",
       "      <th>ACN</th>\n",
       "      <th>ATVI</th>\n",
       "      <th>ADM</th>\n",
       "      <th>ADBE</th>\n",
       "      <th>ADP</th>\n",
       "      <th>...</th>\n",
       "      <th>WMB</th>\n",
       "      <th>WTW</th>\n",
       "      <th>GWW</th>\n",
       "      <th>XEL</th>\n",
       "      <th>XYL</th>\n",
       "      <th>YUM</th>\n",
       "      <th>ZBRA</th>\n",
       "      <th>ZBH</th>\n",
       "      <th>ZION</th>\n",
       "      <th>ZTS</th>\n",
       "    </tr>\n",
       "  </thead>\n",
       "  <tbody>\n",
       "    <tr>\n",
       "      <th>MMM</th>\n",
       "      <td>0.000000</td>\n",
       "      <td>0.644677</td>\n",
       "      <td>0.936614</td>\n",
       "      <td>0.852157</td>\n",
       "      <td>0.717893</td>\n",
       "      <td>0.895029</td>\n",
       "      <td>0.810712</td>\n",
       "      <td>1.071668</td>\n",
       "      <td>0.878824</td>\n",
       "      <td>0.885613</td>\n",
       "      <td>...</td>\n",
       "      <td>1.684167</td>\n",
       "      <td>0.893854</td>\n",
       "      <td>1.215480</td>\n",
       "      <td>0.933261</td>\n",
       "      <td>0.831896</td>\n",
       "      <td>0.890764</td>\n",
       "      <td>0.928918</td>\n",
       "      <td>0.779829</td>\n",
       "      <td>0.797845</td>\n",
       "      <td>0.894309</td>\n",
       "    </tr>\n",
       "    <tr>\n",
       "      <th>AOS</th>\n",
       "      <td>0.644677</td>\n",
       "      <td>0.000000</td>\n",
       "      <td>0.566661</td>\n",
       "      <td>1.031482</td>\n",
       "      <td>0.462038</td>\n",
       "      <td>0.462845</td>\n",
       "      <td>0.402994</td>\n",
       "      <td>0.839286</td>\n",
       "      <td>0.488651</td>\n",
       "      <td>0.494278</td>\n",
       "      <td>...</td>\n",
       "      <td>1.699594</td>\n",
       "      <td>0.503790</td>\n",
       "      <td>0.890104</td>\n",
       "      <td>0.564792</td>\n",
       "      <td>0.457595</td>\n",
       "      <td>0.521602</td>\n",
       "      <td>0.558627</td>\n",
       "      <td>0.645517</td>\n",
       "      <td>0.437828</td>\n",
       "      <td>1.095584</td>\n",
       "    </tr>\n",
       "    <tr>\n",
       "      <th>ABT</th>\n",
       "      <td>0.936614</td>\n",
       "      <td>0.566661</td>\n",
       "      <td>0.000000</td>\n",
       "      <td>1.048549</td>\n",
       "      <td>0.492891</td>\n",
       "      <td>0.275617</td>\n",
       "      <td>0.436390</td>\n",
       "      <td>0.781994</td>\n",
       "      <td>0.268366</td>\n",
       "      <td>0.294803</td>\n",
       "      <td>...</td>\n",
       "      <td>1.713296</td>\n",
       "      <td>0.283976</td>\n",
       "      <td>0.643176</td>\n",
       "      <td>0.343402</td>\n",
       "      <td>0.353781</td>\n",
       "      <td>0.333019</td>\n",
       "      <td>0.173738</td>\n",
       "      <td>0.573467</td>\n",
       "      <td>0.590947</td>\n",
       "      <td>1.054707</td>\n",
       "    </tr>\n",
       "    <tr>\n",
       "      <th>ABBV</th>\n",
       "      <td>0.852157</td>\n",
       "      <td>1.031482</td>\n",
       "      <td>1.048549</td>\n",
       "      <td>0.000000</td>\n",
       "      <td>1.000744</td>\n",
       "      <td>1.027439</td>\n",
       "      <td>0.940466</td>\n",
       "      <td>1.295114</td>\n",
       "      <td>0.954596</td>\n",
       "      <td>1.058866</td>\n",
       "      <td>...</td>\n",
       "      <td>1.773443</td>\n",
       "      <td>0.997357</td>\n",
       "      <td>1.265946</td>\n",
       "      <td>1.010181</td>\n",
       "      <td>0.985349</td>\n",
       "      <td>1.044214</td>\n",
       "      <td>1.023263</td>\n",
       "      <td>0.860672</td>\n",
       "      <td>1.122607</td>\n",
       "      <td>0.517666</td>\n",
       "    </tr>\n",
       "    <tr>\n",
       "      <th>ABMD</th>\n",
       "      <td>0.717893</td>\n",
       "      <td>0.462038</td>\n",
       "      <td>0.492891</td>\n",
       "      <td>1.000744</td>\n",
       "      <td>0.000000</td>\n",
       "      <td>0.436794</td>\n",
       "      <td>0.421157</td>\n",
       "      <td>0.890186</td>\n",
       "      <td>0.425115</td>\n",
       "      <td>0.451790</td>\n",
       "      <td>...</td>\n",
       "      <td>1.772935</td>\n",
       "      <td>0.493891</td>\n",
       "      <td>0.768771</td>\n",
       "      <td>0.530438</td>\n",
       "      <td>0.438889</td>\n",
       "      <td>0.474359</td>\n",
       "      <td>0.496675</td>\n",
       "      <td>0.670423</td>\n",
       "      <td>0.527752</td>\n",
       "      <td>0.975520</td>\n",
       "    </tr>\n",
       "    <tr>\n",
       "      <th>...</th>\n",
       "      <td>...</td>\n",
       "      <td>...</td>\n",
       "      <td>...</td>\n",
       "      <td>...</td>\n",
       "      <td>...</td>\n",
       "      <td>...</td>\n",
       "      <td>...</td>\n",
       "      <td>...</td>\n",
       "      <td>...</td>\n",
       "      <td>...</td>\n",
       "      <td>...</td>\n",
       "      <td>...</td>\n",
       "      <td>...</td>\n",
       "      <td>...</td>\n",
       "      <td>...</td>\n",
       "      <td>...</td>\n",
       "      <td>...</td>\n",
       "      <td>...</td>\n",
       "      <td>...</td>\n",
       "      <td>...</td>\n",
       "      <td>...</td>\n",
       "    </tr>\n",
       "    <tr>\n",
       "      <th>YUM</th>\n",
       "      <td>0.890764</td>\n",
       "      <td>0.521602</td>\n",
       "      <td>0.333019</td>\n",
       "      <td>1.044214</td>\n",
       "      <td>0.474359</td>\n",
       "      <td>0.272371</td>\n",
       "      <td>0.482195</td>\n",
       "      <td>0.840680</td>\n",
       "      <td>0.309211</td>\n",
       "      <td>0.257926</td>\n",
       "      <td>...</td>\n",
       "      <td>1.730315</td>\n",
       "      <td>0.295846</td>\n",
       "      <td>0.665793</td>\n",
       "      <td>0.366931</td>\n",
       "      <td>0.295595</td>\n",
       "      <td>0.000000</td>\n",
       "      <td>0.312746</td>\n",
       "      <td>0.571750</td>\n",
       "      <td>0.499485</td>\n",
       "      <td>1.066883</td>\n",
       "    </tr>\n",
       "    <tr>\n",
       "      <th>ZBRA</th>\n",
       "      <td>0.928918</td>\n",
       "      <td>0.558627</td>\n",
       "      <td>0.173738</td>\n",
       "      <td>1.023263</td>\n",
       "      <td>0.496675</td>\n",
       "      <td>0.285584</td>\n",
       "      <td>0.440581</td>\n",
       "      <td>0.760176</td>\n",
       "      <td>0.269601</td>\n",
       "      <td>0.301411</td>\n",
       "      <td>...</td>\n",
       "      <td>1.701554</td>\n",
       "      <td>0.291701</td>\n",
       "      <td>0.623739</td>\n",
       "      <td>0.371885</td>\n",
       "      <td>0.334638</td>\n",
       "      <td>0.312746</td>\n",
       "      <td>0.000000</td>\n",
       "      <td>0.589290</td>\n",
       "      <td>0.549887</td>\n",
       "      <td>1.043617</td>\n",
       "    </tr>\n",
       "    <tr>\n",
       "      <th>ZBH</th>\n",
       "      <td>0.779829</td>\n",
       "      <td>0.645517</td>\n",
       "      <td>0.573467</td>\n",
       "      <td>0.860672</td>\n",
       "      <td>0.670423</td>\n",
       "      <td>0.552798</td>\n",
       "      <td>0.589914</td>\n",
       "      <td>0.890955</td>\n",
       "      <td>0.527437</td>\n",
       "      <td>0.569581</td>\n",
       "      <td>...</td>\n",
       "      <td>1.745158</td>\n",
       "      <td>0.527992</td>\n",
       "      <td>0.885980</td>\n",
       "      <td>0.570600</td>\n",
       "      <td>0.528229</td>\n",
       "      <td>0.571750</td>\n",
       "      <td>0.589290</td>\n",
       "      <td>0.000000</td>\n",
       "      <td>0.766659</td>\n",
       "      <td>0.908405</td>\n",
       "    </tr>\n",
       "    <tr>\n",
       "      <th>ZION</th>\n",
       "      <td>0.797845</td>\n",
       "      <td>0.437828</td>\n",
       "      <td>0.590947</td>\n",
       "      <td>1.122607</td>\n",
       "      <td>0.527752</td>\n",
       "      <td>0.536979</td>\n",
       "      <td>0.575115</td>\n",
       "      <td>0.803278</td>\n",
       "      <td>0.588169</td>\n",
       "      <td>0.515692</td>\n",
       "      <td>...</td>\n",
       "      <td>1.601864</td>\n",
       "      <td>0.555142</td>\n",
       "      <td>0.738497</td>\n",
       "      <td>0.661462</td>\n",
       "      <td>0.504086</td>\n",
       "      <td>0.499485</td>\n",
       "      <td>0.549887</td>\n",
       "      <td>0.766659</td>\n",
       "      <td>0.000000</td>\n",
       "      <td>1.176728</td>\n",
       "    </tr>\n",
       "    <tr>\n",
       "      <th>ZTS</th>\n",
       "      <td>0.894309</td>\n",
       "      <td>1.095584</td>\n",
       "      <td>1.054707</td>\n",
       "      <td>0.517666</td>\n",
       "      <td>0.975520</td>\n",
       "      <td>1.050555</td>\n",
       "      <td>0.959850</td>\n",
       "      <td>1.360886</td>\n",
       "      <td>0.981460</td>\n",
       "      <td>1.070992</td>\n",
       "      <td>...</td>\n",
       "      <td>1.814115</td>\n",
       "      <td>1.027796</td>\n",
       "      <td>1.244534</td>\n",
       "      <td>1.015636</td>\n",
       "      <td>1.016073</td>\n",
       "      <td>1.066883</td>\n",
       "      <td>1.043617</td>\n",
       "      <td>0.908405</td>\n",
       "      <td>1.176728</td>\n",
       "      <td>0.000000</td>\n",
       "    </tr>\n",
       "  </tbody>\n",
       "</table>\n",
       "<p>464 rows × 464 columns</p>\n",
       "</div>"
      ],
      "text/plain": [
       "           MMM       AOS       ABT      ABBV      ABMD       ACN      ATVI  \\\n",
       "MMM   0.000000  0.644677  0.936614  0.852157  0.717893  0.895029  0.810712   \n",
       "AOS   0.644677  0.000000  0.566661  1.031482  0.462038  0.462845  0.402994   \n",
       "ABT   0.936614  0.566661  0.000000  1.048549  0.492891  0.275617  0.436390   \n",
       "ABBV  0.852157  1.031482  1.048549  0.000000  1.000744  1.027439  0.940466   \n",
       "ABMD  0.717893  0.462038  0.492891  1.000744  0.000000  0.436794  0.421157   \n",
       "...        ...       ...       ...       ...       ...       ...       ...   \n",
       "YUM   0.890764  0.521602  0.333019  1.044214  0.474359  0.272371  0.482195   \n",
       "ZBRA  0.928918  0.558627  0.173738  1.023263  0.496675  0.285584  0.440581   \n",
       "ZBH   0.779829  0.645517  0.573467  0.860672  0.670423  0.552798  0.589914   \n",
       "ZION  0.797845  0.437828  0.590947  1.122607  0.527752  0.536979  0.575115   \n",
       "ZTS   0.894309  1.095584  1.054707  0.517666  0.975520  1.050555  0.959850   \n",
       "\n",
       "           ADM      ADBE       ADP  ...       WMB       WTW       GWW  \\\n",
       "MMM   1.071668  0.878824  0.885613  ...  1.684167  0.893854  1.215480   \n",
       "AOS   0.839286  0.488651  0.494278  ...  1.699594  0.503790  0.890104   \n",
       "ABT   0.781994  0.268366  0.294803  ...  1.713296  0.283976  0.643176   \n",
       "ABBV  1.295114  0.954596  1.058866  ...  1.773443  0.997357  1.265946   \n",
       "ABMD  0.890186  0.425115  0.451790  ...  1.772935  0.493891  0.768771   \n",
       "...        ...       ...       ...  ...       ...       ...       ...   \n",
       "YUM   0.840680  0.309211  0.257926  ...  1.730315  0.295846  0.665793   \n",
       "ZBRA  0.760176  0.269601  0.301411  ...  1.701554  0.291701  0.623739   \n",
       "ZBH   0.890955  0.527437  0.569581  ...  1.745158  0.527992  0.885980   \n",
       "ZION  0.803278  0.588169  0.515692  ...  1.601864  0.555142  0.738497   \n",
       "ZTS   1.360886  0.981460  1.070992  ...  1.814115  1.027796  1.244534   \n",
       "\n",
       "           XEL       XYL       YUM      ZBRA       ZBH      ZION       ZTS  \n",
       "MMM   0.933261  0.831896  0.890764  0.928918  0.779829  0.797845  0.894309  \n",
       "AOS   0.564792  0.457595  0.521602  0.558627  0.645517  0.437828  1.095584  \n",
       "ABT   0.343402  0.353781  0.333019  0.173738  0.573467  0.590947  1.054707  \n",
       "ABBV  1.010181  0.985349  1.044214  1.023263  0.860672  1.122607  0.517666  \n",
       "ABMD  0.530438  0.438889  0.474359  0.496675  0.670423  0.527752  0.975520  \n",
       "...        ...       ...       ...       ...       ...       ...       ...  \n",
       "YUM   0.366931  0.295595  0.000000  0.312746  0.571750  0.499485  1.066883  \n",
       "ZBRA  0.371885  0.334638  0.312746  0.000000  0.589290  0.549887  1.043617  \n",
       "ZBH   0.570600  0.528229  0.571750  0.589290  0.000000  0.766659  0.908405  \n",
       "ZION  0.661462  0.504086  0.499485  0.549887  0.766659  0.000000  1.176728  \n",
       "ZTS   1.015636  1.016073  1.066883  1.043617  0.908405  1.176728  0.000000  \n",
       "\n",
       "[464 rows x 464 columns]"
      ]
     },
     "execution_count": 18,
     "metadata": {},
     "output_type": "execute_result"
    }
   ],
   "source": [
    "result"
   ]
  },
  {
   "cell_type": "code",
   "execution_count": 19,
   "id": "b8ec404b",
   "metadata": {
    "ExecuteTime": {
     "end_time": "2022-12-06T15:22:15.761173Z",
     "start_time": "2022-12-06T15:22:15.748140Z"
    }
   },
   "outputs": [],
   "source": [
    "def create_graph_from_distance_matrix(df):\n",
    "    coins = df.columns \n",
    "    cor_matrix = np.asmatrix(df)\n",
    "    original_graph = nx.from_numpy_matrix(cor_matrix)\n",
    "    original_graph = nx.relabel_nodes(original_graph,lambda x: coins[x])\n",
    "    minimum_spanning_tree = create_minumum_spanning_tree_from_graph(original_graph)\n",
    "    maximum_spanning_tree = create_maximum_spanning_tree_from_graph(original_graph)\n",
    "    return original_graph, minimum_spanning_tree, maximum_spanning_tree\n",
    "\n",
    "def create_minumum_spanning_tree_from_graph(G):\n",
    "    return nx.minimum_spanning_tree(G)\n",
    "\n",
    "def create_maximum_spanning_tree_from_graph(G):\n",
    "    return nx.maximum_spanning_tree(G)"
   ]
  },
  {
   "cell_type": "code",
   "execution_count": 20,
   "id": "cddc6bb8",
   "metadata": {
    "ExecuteTime": {
     "end_time": "2022-12-06T15:22:19.763464Z",
     "start_time": "2022-12-06T15:22:18.263278Z"
    }
   },
   "outputs": [],
   "source": [
    "g, min_st, max_st = create_graph_from_distance_matrix(result)"
   ]
  },
  {
   "cell_type": "code",
   "execution_count": 21,
   "id": "b15d71c4",
   "metadata": {
    "ExecuteTime": {
     "end_time": "2022-12-06T15:22:25.425218Z",
     "start_time": "2022-12-06T15:22:25.409703Z"
    }
   },
   "outputs": [
    {
     "data": {
      "text/plain": [
       "463"
      ]
     },
     "execution_count": 21,
     "metadata": {},
     "output_type": "execute_result"
    }
   ],
   "source": [
    "min_st.number_of_edges()"
   ]
  },
  {
   "cell_type": "code",
   "execution_count": 24,
   "id": "18adabde",
   "metadata": {
    "ExecuteTime": {
     "end_time": "2022-12-06T15:23:23.601126Z",
     "start_time": "2022-12-06T15:23:20.993961Z"
    }
   },
   "outputs": [
    {
     "data": {
      "image/png": "[encoded data removed]",
      "text/plain": [
       "<Figure size 640x480 with 1 Axes>"
      ]
     },
     "metadata": {},
     "output_type": "display_data"
    }
   ],
   "source": [
    "# Visualize graph\n",
    "pos = nx.spring_layout(min_st)\n",
    "nx.draw(min_st, pos, with_labels=True, node_color=[[.7, .7, .7]], node_size=35, width=0.15, font_size=2)"
   ]
  },
  {
   "cell_type": "code",
   "execution_count": 25,
   "id": "2df48ac7",
   "metadata": {
    "ExecuteTime": {
     "end_time": "2022-12-06T15:23:29.802281Z",
     "start_time": "2022-12-06T15:23:27.361441Z"
    }
   },
   "outputs": [],
   "source": [
    "import dgl\n",
    "import torch\n",
    "import random\n",
    "import os\n",
    "import numpy as np\n",
    "import networkx as nx\n",
    "import torch.nn as nn\n",
    "import torch.nn.functional as F\n",
    "\n",
    "from collections import OrderedDict, defaultdict\n",
    "from dgl.nn.pytorch import GraphConv\n",
    "from itertools import chain, islice, combinations\n",
    "from networkx.algorithms.approximation.independent_set import maximum_independent_set as mis\n",
    "from time import time\n",
    "\n",
    "# MacOS can have issues with MKL. For more details, see\n",
    "# https://stackoverflow.com/questions/53014306/error-15-initializing-libiomp5-dylib-but-found-libiomp5-dylib-already-initial\n",
    "os.environ['KMP_DUPLICATE_LIB_OK'] = 'True'"
   ]
  },
  {
   "cell_type": "code",
   "execution_count": 26,
   "id": "127980da",
   "metadata": {
    "ExecuteTime": {
     "end_time": "2022-12-06T15:23:32.299293Z",
     "start_time": "2022-12-06T15:23:31.056478Z"
    }
   },
   "outputs": [
    {
     "name": "stdout",
     "output_type": "stream",
     "text": [
      "Will use device: cuda, torch dtype: torch.float32\n"
     ]
    }
   ],
   "source": [
    "# fix seed to ensure consistent results\n",
    "seed_value = 1\n",
    "random.seed(seed_value)        # seed python RNG\n",
    "np.random.seed(seed_value)     # seed global NumPy RNG\n",
    "torch.manual_seed(seed_value)  # seed torch RNG\n",
    "\n",
    "# Set GPU/CPU\n",
    "TORCH_DEVICE = torch.device('cuda' if torch.cuda.is_available() else 'cpu')\n",
    "TORCH_DTYPE = torch.float32\n",
    "print(f'Will use device: {TORCH_DEVICE}, torch dtype: {TORCH_DTYPE}')"
   ]
  },
  {
   "cell_type": "code",
   "execution_count": 27,
   "id": "a705d1bd",
   "metadata": {
    "ExecuteTime": {
     "end_time": "2022-12-06T15:23:33.796160Z",
     "start_time": "2022-12-06T15:23:33.783126Z"
    }
   },
   "outputs": [],
   "source": [
    "from utils import generate_graph, get_gnn, run_gnn_training, qubo_dict_to_torch, gen_combinations, loss_func"
   ]
  },
  {
   "cell_type": "code",
   "execution_count": 47,
   "id": "368f8e70",
   "metadata": {
    "ExecuteTime": {
     "end_time": "2022-12-06T15:28:09.077587Z",
     "start_time": "2022-12-06T15:28:09.061079Z"
    }
   },
   "outputs": [],
   "source": [
    "# helper function to generate Q matrix for Maximum Independent Set problem (MIS)\n",
    "def gen_q_dict_mis(nx_G, penalty=2, alpha = 0.1):\n",
    "    \"\"\"\n",
    "    Helper function to generate QUBO matrix for MIS as minimization problem.\n",
    "    \n",
    "    Input:\n",
    "        nx_G: graph as networkx graph object (assumed to be unweigthed)\n",
    "    Output:\n",
    "        Q_dic: QUBO as defaultdict\n",
    "    \"\"\"\n",
    "    Q_dic = OrderedDict()\n",
    "    sum_distances = 0\n",
    "    sum_returns = sum(returns)\n",
    "    # Update Q matrix for every edge in the graph\n",
    "    # all off-diagonal terms get penalty\n",
    "    for (u, v) in nx_G.edges:\n",
    "        Q_dic[(u, v)] = nx_G[u][v][\"weight\"] * (1 - alpha)\n",
    "    \n",
    "    Ratio = sum_distances/sum_returns\n",
    "    # all diagonal terms get -1\n",
    "    for u in nx_G.nodes:\n",
    "        Q_dic[(u, u)] = -returns[indexes[u]] * alpha\n",
    "        \n",
    "    return Q_dic\n",
    "\n",
    "# Run classical MIS solver (provided by NetworkX)\n",
    "def run_mis_solver(nx_graph):\n",
    "    \"\"\"\n",
    "    helper function to run traditional solver for MIS.\n",
    "    \n",
    "    Input:\n",
    "        nx_graph: networkx Graph object\n",
    "    Output:\n",
    "        ind_set_bitstring_nx: bitstring solution as list\n",
    "        ind_set_nx_size: size of independent set (int)\n",
    "        number_violations: number of violations of ind.set condition\n",
    "    \"\"\"\n",
    "    # compare with traditional solver\n",
    "    t_start = time()\n",
    "    ind_set_nx = mis(nx_graph)\n",
    "    t_solve = time() - t_start\n",
    "    ind_set_nx_size = len(ind_set_nx)\n",
    "\n",
    "    # get bitstring list\n",
    "    nx_bitstring = [1 if (node in ind_set_nx) else 0 for node in sorted(list(nx_graph.nodes))]\n",
    "    edge_set = set(list(nx_graph.edges))\n",
    "\n",
    "    # Updated to be able to handle larger scale\n",
    "    print('Calculating violations...')\n",
    "    # check for violations\n",
    "    number_violations = 0\n",
    "    for ind_set_chunk in gen_combinations(combinations(ind_set_nx, 2), 100000):\n",
    "        number_violations += len(set(ind_set_chunk).intersection(edge_set))\n",
    "\n",
    "    return nx_bitstring, ind_set_nx_size, number_violations, t_solve\n",
    "\n",
    "\n",
    "# Calculate results given bitstring and graph definition, includes check for violations\n",
    "def postprocess_gnn_mis(best_bitstring, nx_graph):\n",
    "    \"\"\"\n",
    "    helper function to postprocess MIS results\n",
    "\n",
    "    Input:\n",
    "        best_bitstring: bitstring as torch tensor\n",
    "    Output:\n",
    "        size_mis: Size of MIS (int)\n",
    "        ind_set: MIS (list of integers)\n",
    "        number_violations: number of violations of ind.set condition\n",
    "    \"\"\"\n",
    "\n",
    "    # get bitstring as list\n",
    "    bitstring_list = list(best_bitstring)\n",
    "\n",
    "    # compute cost\n",
    "    size_mis = sum(bitstring_list)\n",
    "\n",
    "    # get independent set\n",
    "    ind_set = set([node for node, entry in enumerate(bitstring_list) if entry == 1])\n",
    "    edge_set = set(list(nx_graph.edges))\n",
    "\n",
    "    print('Calculating violations...')\n",
    "    # check for violations\n",
    "    number_violations = 0\n",
    "    for ind_set_chunk in gen_combinations(combinations(ind_set, 2), 100000):\n",
    "        number_violations += len(set(ind_set_chunk).intersection(edge_set))\n",
    "\n",
    "    return size_mis, ind_set, number_violations"
   ]
  },
  {
   "cell_type": "code",
   "execution_count": 29,
   "id": "85b9d789",
   "metadata": {
    "ExecuteTime": {
     "end_time": "2022-12-06T15:23:58.104922Z",
     "start_time": "2022-12-06T15:23:58.092920Z"
    }
   },
   "outputs": [],
   "source": [
    "corr_matrix2 = np.asmatrix(result)\n",
    "\n",
    "indexes = {k: v for v, k in enumerate(result.columns)}"
   ]
  },
  {
   "cell_type": "code",
   "execution_count": 48,
   "id": "e9639ae2",
   "metadata": {
    "ExecuteTime": {
     "end_time": "2022-12-06T15:28:11.182125Z",
     "start_time": "2022-12-06T15:28:11.170125Z"
    }
   },
   "outputs": [],
   "source": [
    "# Graph hypers\n",
    "n = 464\n",
    "d = 3\n",
    "p = None\n",
    "graph_type = 'reg'\n",
    "\n",
    "# NN learning hypers #\n",
    "number_epochs = int(1e5)\n",
    "learning_rate = 1e-4\n",
    "PROB_THRESHOLD = 0.5\n",
    "\n",
    "# Early stopping to allow NN to train to near-completion\n",
    "tol = 1e-4          # loss must change by more than tol, or trigger\n",
    "patience = 70    # number early stopping triggers before breaking loop\n",
    "\n",
    "# Problem size (e.g. graph size)\n",
    "n = 464\n",
    "\n",
    "# Establish dim_embedding and hidden_dim values\n",
    "dim_embedding = int(np.sqrt(n))    # e.g. 10\n",
    "hidden_dim = int(dim_embedding/2)  # e.g. 5"
   ]
  },
  {
   "cell_type": "code",
   "execution_count": 49,
   "id": "ba665387",
   "metadata": {
    "ExecuteTime": {
     "end_time": "2022-12-06T15:28:12.692499Z",
     "start_time": "2022-12-06T15:28:12.660323Z"
    }
   },
   "outputs": [],
   "source": [
    "# get DGL graph from networkx graph, load onto device\n",
    "graph_dgl = dgl.from_networkx(min_st)\n",
    "graph_dgl = graph_dgl.to(TORCH_DEVICE)\n",
    "\n",
    "# Construct Q matrix for graph\n",
    "q_torch = qubo_dict_to_torch(min_st, gen_q_dict_mis(min_st), torch_dtype=TORCH_DTYPE, torch_device=TORCH_DEVICE)"
   ]
  },
  {
   "cell_type": "code",
   "execution_count": 33,
   "id": "fb8f23d9",
   "metadata": {
    "ExecuteTime": {
     "end_time": "2022-12-06T15:24:21.374302Z",
     "start_time": "2022-12-06T15:24:21.353303Z"
    }
   },
   "outputs": [],
   "source": [
    "# helper function to convert Q dictionary to torch tensor\n",
    "def qubo_dict_to_torch(nx_G, Q, torch_dtype=None, torch_device=None):\n",
    "    \"\"\"\n",
    "    Output Q matrix as torch tensor for given Q in dictionary format.\n",
    "\n",
    "    Input:\n",
    "        Q: QUBO matrix as defaultdict\n",
    "        nx_G: graph as networkx object (needed for node lables can vary 0,1,... vs 1,2,... vs a,b,...)\n",
    "    Output:\n",
    "        Q: QUBO as torch tensor\n",
    "    \"\"\"\n",
    "\n",
    "    # get number of nodes\n",
    "    n_nodes = len(nx_G.nodes)\n",
    "\n",
    "    # get QUBO Q as torch tensor\n",
    "    Q_mat = torch.zeros(n_nodes, n_nodes)\n",
    "    for (x_coord, y_coord), val in Q.items():\n",
    "        Q_mat[indexes[x_coord]][indexes[y_coord]] = val\n",
    "\n",
    "    if torch_dtype is not None:\n",
    "        Q_mat = Q_mat.type(torch_dtype)\n",
    "\n",
    "    if torch_device is not None:\n",
    "        Q_mat = Q_mat.to(torch_device)\n",
    "\n",
    "    return Q_mat"
   ]
  },
  {
   "cell_type": "code",
   "execution_count": 36,
   "id": "ed746b78",
   "metadata": {
    "ExecuteTime": {
     "end_time": "2022-12-06T15:24:43.018127Z",
     "start_time": "2022-12-06T15:24:43.013129Z"
    }
   },
   "outputs": [],
   "source": [
    "indexes2 = {v: k for k, v in indexes.items()}"
   ]
  },
  {
   "cell_type": "code",
   "execution_count": 50,
   "id": "7081a51f",
   "metadata": {
    "ExecuteTime": {
     "end_time": "2022-12-06T15:28:15.830059Z",
     "start_time": "2022-12-06T15:28:15.808617Z"
    }
   },
   "outputs": [],
   "source": [
    "# Establish pytorch GNN + optimizer\n",
    "opt_params = {'lr': learning_rate}\n",
    "gnn_hypers = {\n",
    "    'dim_embedding': dim_embedding,\n",
    "    'hidden_dim': hidden_dim,\n",
    "    'dropout': 0.0,\n",
    "    'number_classes': 1,\n",
    "    'prob_threshold': PROB_THRESHOLD,\n",
    "    'number_epochs': number_epochs,\n",
    "    'tolerance': tol,\n",
    "    'patience': patience\n",
    "}\n",
    "\n",
    "net, embed, optimizer = get_gnn(n, gnn_hypers, opt_params, TORCH_DEVICE, TORCH_DTYPE)\n",
    "\n",
    "# For tracking hyperparameters in results object\n",
    "gnn_hypers.update(opt_params)"
   ]
  },
  {
   "cell_type": "code",
   "execution_count": 51,
   "id": "31e86eaf",
   "metadata": {
    "ExecuteTime": {
     "end_time": "2022-12-06T15:29:18.290969Z",
     "start_time": "2022-12-06T15:28:16.607051Z"
    }
   },
   "outputs": [
    {
     "name": "stdout",
     "output_type": "stream",
     "text": [
      "Running GNN...\n",
      "Epoch: 0, Loss: 25.866016387939453\n",
      "Epoch: 1000, Loss: 4.825898170471191\n",
      "Epoch: 2000, Loss: -3.221437692642212\n",
      "Epoch: 3000, Loss: -10.316853523254395\n",
      "Epoch: 4000, Loss: -15.105443000793457\n",
      "Epoch: 5000, Loss: -17.382614135742188\n",
      "Epoch: 6000, Loss: -19.019567489624023\n",
      "Epoch: 7000, Loss: -19.754043579101562\n",
      "Epoch: 8000, Loss: -20.132946014404297\n",
      "Stopping early on epoch 8426 (patience: 70)\n",
      "GNN training (n=464) took 61.664\n",
      "GNN final continuous loss: -20.17789649963379\n",
      "GNN best continuous loss: -20.17789649963379\n"
     ]
    }
   ],
   "source": [
    "print('Running GNN...')\n",
    "gnn_start = time()\n",
    "\n",
    "_, epoch, final_bitstring, best_bitstring = run_gnn_training(\n",
    "    q_torch, graph_dgl, net, embed, optimizer, gnn_hypers['number_epochs'],\n",
    "    gnn_hypers['tolerance'], gnn_hypers['patience'], gnn_hypers['prob_threshold'])\n",
    "\n",
    "gnn_time = time() - gnn_start"
   ]
  },
  {
   "cell_type": "code",
   "execution_count": 52,
   "id": "c10ff363",
   "metadata": {
    "ExecuteTime": {
     "end_time": "2022-12-06T15:29:36.609990Z",
     "start_time": "2022-12-06T15:29:36.465713Z"
    }
   },
   "outputs": [
    {
     "name": "stdout",
     "output_type": "stream",
     "text": [
      "Calculating violations...\n",
      "Бројот на акции за креирање на портфолио најдени со GNN е 166\n",
      "Потребното време за тренирање на моделот: 61.666s\n"
     ]
    }
   ],
   "source": [
    "final_loss = loss_func(final_bitstring.float(), q_torch)\n",
    "final_bitstring_str = ','.join([str(x) for x in final_bitstring])\n",
    "\n",
    "# Process bitstring reported by GNN\n",
    "size_mis, ind_set, number_violations = postprocess_gnn_mis(best_bitstring, min_st)\n",
    "gnn_tot_time = time() - gnn_start\n",
    "\n",
    "print(f'Бројот на акции за креирање на портфолио најдени со GNN е {size_mis}')\n",
    "print(f'Потребното време за тренирање на моделот: {round(gnn_time, 3)}s')"
   ]
  },
  {
   "cell_type": "code",
   "execution_count": 54,
   "id": "0ce0955b",
   "metadata": {
    "ExecuteTime": {
     "end_time": "2022-12-06T15:29:49.453185Z",
     "start_time": "2022-12-06T15:29:49.436185Z"
    }
   },
   "outputs": [],
   "source": [
    "import matplotlib.pyplot as plt"
   ]
  },
  {
   "cell_type": "code",
   "execution_count": 55,
   "id": "2b866079",
   "metadata": {
    "ExecuteTime": {
     "end_time": "2022-12-06T15:30:14.224035Z",
     "start_time": "2022-12-06T15:30:10.487586Z"
    }
   },
   "outputs": [
    {
     "data": {
      "image/png": "[encoded data removed]",
      "text/plain": [
       "<Figure size 640x480 with 1 Axes>"
      ]
     },
     "metadata": {},
     "output_type": "display_data"
    }
   ],
   "source": [
    "# Visualize result\n",
    "# Note no light-blue nodes are connected by an edge\n",
    "color_map = ['red' if (best_bitstring[indexes[node]]==0) else 'lightgreen' for node in min_st.nodes]\n",
    "nx.draw(min_st, pos, with_labels=True, node_color=color_map, node_size=40,font_size=3, width=0.1)\n",
    "plt.savefig('final.png')"
   ]
  },
  {
   "cell_type": "code",
   "execution_count": 56,
   "id": "165612cf",
   "metadata": {
    "ExecuteTime": {
     "end_time": "2022-12-06T15:31:23.721474Z",
     "start_time": "2022-12-06T15:31:23.714438Z"
    }
   },
   "outputs": [],
   "source": [
    "final_bit = best_bitstring"
   ]
  },
  {
   "cell_type": "code",
   "execution_count": 57,
   "id": "8ed0c8c3",
   "metadata": {
    "ExecuteTime": {
     "end_time": "2022-12-06T15:31:24.811984Z",
     "start_time": "2022-12-06T15:31:24.767897Z"
    }
   },
   "outputs": [],
   "source": [
    "indexes_of_final_stocks2 = []\n",
    "for i in range(0, 464):\n",
    "    if best_bitstring[i] == 1:\n",
    "        indexes_of_final_stocks2.append(indexes2[i])"
   ]
  },
  {
   "cell_type": "code",
   "execution_count": 58,
   "id": "d1ebae9b",
   "metadata": {
    "ExecuteTime": {
     "end_time": "2022-12-06T15:31:29.992498Z",
     "start_time": "2022-12-06T15:31:29.981497Z"
    }
   },
   "outputs": [],
   "source": [
    "df_gnn1 = neg[[c for c in neg.columns if c in indexes_of_final_stocks2]]"
   ]
  },
  {
   "cell_type": "code",
   "execution_count": 396,
   "id": "b86f0138",
   "metadata": {
    "ExecuteTime": {
     "end_time": "2022-11-11T15:26:38.106303Z",
     "start_time": "2022-11-11T15:26:38.095290Z"
    }
   },
   "outputs": [],
   "source": [
    "df_gnn2 = neg[[c for c in neg.columns if c in indexes_of_final_stocks2]]"
   ]
  },
  {
   "cell_type": "code",
   "execution_count": 97,
   "id": "5207819d",
   "metadata": {
    "ExecuteTime": {
     "end_time": "2022-11-15T22:58:41.453149Z",
     "start_time": "2022-11-15T22:58:41.410139Z"
    }
   },
   "outputs": [
    {
     "data": {
      "text/html": [
       "<div>\n",
       "<style scoped>\n",
       "    .dataframe tbody tr th:only-of-type {\n",
       "        vertical-align: middle;\n",
       "    }\n",
       "\n",
       "    .dataframe tbody tr th {\n",
       "        vertical-align: top;\n",
       "    }\n",
       "\n",
       "    .dataframe thead th {\n",
       "        text-align: right;\n",
       "    }\n",
       "</style>\n",
       "<table border=\"1\" class=\"dataframe\">\n",
       "  <thead>\n",
       "    <tr style=\"text-align: right;\">\n",
       "      <th></th>\n",
       "      <th>AOS</th>\n",
       "      <th>ACN</th>\n",
       "      <th>AES</th>\n",
       "      <th>ALGN</th>\n",
       "      <th>ALL</th>\n",
       "      <th>GOOGL</th>\n",
       "      <th>MO</th>\n",
       "      <th>AMZN</th>\n",
       "      <th>AMD</th>\n",
       "      <th>AIG</th>\n",
       "      <th>...</th>\n",
       "      <th>TYL</th>\n",
       "      <th>USB</th>\n",
       "      <th>VRSK</th>\n",
       "      <th>VMC</th>\n",
       "      <th>WMT</th>\n",
       "      <th>WAT</th>\n",
       "      <th>WST</th>\n",
       "      <th>WY</th>\n",
       "      <th>XEL</th>\n",
       "      <th>XYL</th>\n",
       "    </tr>\n",
       "    <tr>\n",
       "      <th>Datetime</th>\n",
       "      <th></th>\n",
       "      <th></th>\n",
       "      <th></th>\n",
       "      <th></th>\n",
       "      <th></th>\n",
       "      <th></th>\n",
       "      <th></th>\n",
       "      <th></th>\n",
       "      <th></th>\n",
       "      <th></th>\n",
       "      <th></th>\n",
       "      <th></th>\n",
       "      <th></th>\n",
       "      <th></th>\n",
       "      <th></th>\n",
       "      <th></th>\n",
       "      <th></th>\n",
       "      <th></th>\n",
       "      <th></th>\n",
       "      <th></th>\n",
       "      <th></th>\n",
       "    </tr>\n",
       "  </thead>\n",
       "  <tbody>\n",
       "    <tr>\n",
       "      <th>2012-01-03</th>\n",
       "      <td>10.3175</td>\n",
       "      <td>52.95</td>\n",
       "      <td>12.12</td>\n",
       "      <td>23.95</td>\n",
       "      <td>27.75</td>\n",
       "      <td>16.65139</td>\n",
       "      <td>28.56</td>\n",
       "      <td>8.9515</td>\n",
       "      <td>5.48</td>\n",
       "      <td>24.07</td>\n",
       "      <td>...</td>\n",
       "      <td>30.34</td>\n",
       "      <td>27.58</td>\n",
       "      <td>39.36</td>\n",
       "      <td>39.68</td>\n",
       "      <td>60.33</td>\n",
       "      <td>75.94</td>\n",
       "      <td>19.075</td>\n",
       "      <td>19.10</td>\n",
       "      <td>27.34</td>\n",
       "      <td>25.14</td>\n",
       "    </tr>\n",
       "    <tr>\n",
       "      <th>2012-01-04</th>\n",
       "      <td>10.4825</td>\n",
       "      <td>52.93</td>\n",
       "      <td>12.03</td>\n",
       "      <td>24.41</td>\n",
       "      <td>27.56</td>\n",
       "      <td>16.72321</td>\n",
       "      <td>28.40</td>\n",
       "      <td>8.8755</td>\n",
       "      <td>5.46</td>\n",
       "      <td>23.92</td>\n",
       "      <td>...</td>\n",
       "      <td>30.36</td>\n",
       "      <td>27.57</td>\n",
       "      <td>38.98</td>\n",
       "      <td>39.30</td>\n",
       "      <td>59.71</td>\n",
       "      <td>74.45</td>\n",
       "      <td>18.895</td>\n",
       "      <td>18.89</td>\n",
       "      <td>27.16</td>\n",
       "      <td>25.97</td>\n",
       "    </tr>\n",
       "    <tr>\n",
       "      <th>2012-01-05</th>\n",
       "      <td>10.5025</td>\n",
       "      <td>51.92</td>\n",
       "      <td>12.32</td>\n",
       "      <td>24.19</td>\n",
       "      <td>27.74</td>\n",
       "      <td>16.49123</td>\n",
       "      <td>28.83</td>\n",
       "      <td>8.8805</td>\n",
       "      <td>5.46</td>\n",
       "      <td>23.91</td>\n",
       "      <td>...</td>\n",
       "      <td>31.09</td>\n",
       "      <td>27.98</td>\n",
       "      <td>39.13</td>\n",
       "      <td>39.62</td>\n",
       "      <td>59.42</td>\n",
       "      <td>73.71</td>\n",
       "      <td>18.915</td>\n",
       "      <td>18.78</td>\n",
       "      <td>27.28</td>\n",
       "      <td>25.60</td>\n",
       "    </tr>\n",
       "    <tr>\n",
       "      <th>2012-01-06</th>\n",
       "      <td>10.4350</td>\n",
       "      <td>51.83</td>\n",
       "      <td>12.23</td>\n",
       "      <td>23.71</td>\n",
       "      <td>28.02</td>\n",
       "      <td>16.26626</td>\n",
       "      <td>28.72</td>\n",
       "      <td>9.1305</td>\n",
       "      <td>5.43</td>\n",
       "      <td>23.54</td>\n",
       "      <td>...</td>\n",
       "      <td>31.81</td>\n",
       "      <td>27.75</td>\n",
       "      <td>39.37</td>\n",
       "      <td>39.29</td>\n",
       "      <td>59.00</td>\n",
       "      <td>74.15</td>\n",
       "      <td>18.975</td>\n",
       "      <td>19.02</td>\n",
       "      <td>27.20</td>\n",
       "      <td>25.17</td>\n",
       "    </tr>\n",
       "    <tr>\n",
       "      <th>2012-01-09</th>\n",
       "      <td>10.4925</td>\n",
       "      <td>51.74</td>\n",
       "      <td>12.47</td>\n",
       "      <td>22.67</td>\n",
       "      <td>28.14</td>\n",
       "      <td>15.57659</td>\n",
       "      <td>28.50</td>\n",
       "      <td>8.9280</td>\n",
       "      <td>5.59</td>\n",
       "      <td>24.00</td>\n",
       "      <td>...</td>\n",
       "      <td>31.56</td>\n",
       "      <td>28.24</td>\n",
       "      <td>39.38</td>\n",
       "      <td>39.50</td>\n",
       "      <td>59.18</td>\n",
       "      <td>74.27</td>\n",
       "      <td>19.015</td>\n",
       "      <td>18.79</td>\n",
       "      <td>27.22</td>\n",
       "      <td>25.27</td>\n",
       "    </tr>\n",
       "  </tbody>\n",
       "</table>\n",
       "<p>5 rows × 135 columns</p>\n",
       "</div>"
      ],
      "text/plain": [
       "                AOS    ACN    AES   ALGN    ALL     GOOGL     MO    AMZN  \\\n",
       "Datetime                                                                   \n",
       "2012-01-03  10.3175  52.95  12.12  23.95  27.75  16.65139  28.56  8.9515   \n",
       "2012-01-04  10.4825  52.93  12.03  24.41  27.56  16.72321  28.40  8.8755   \n",
       "2012-01-05  10.5025  51.92  12.32  24.19  27.74  16.49123  28.83  8.8805   \n",
       "2012-01-06  10.4350  51.83  12.23  23.71  28.02  16.26626  28.72  9.1305   \n",
       "2012-01-09  10.4925  51.74  12.47  22.67  28.14  15.57659  28.50  8.9280   \n",
       "\n",
       "             AMD    AIG  ...    TYL    USB   VRSK    VMC    WMT    WAT  \\\n",
       "Datetime                 ...                                             \n",
       "2012-01-03  5.48  24.07  ...  30.34  27.58  39.36  39.68  60.33  75.94   \n",
       "2012-01-04  5.46  23.92  ...  30.36  27.57  38.98  39.30  59.71  74.45   \n",
       "2012-01-05  5.46  23.91  ...  31.09  27.98  39.13  39.62  59.42  73.71   \n",
       "2012-01-06  5.43  23.54  ...  31.81  27.75  39.37  39.29  59.00  74.15   \n",
       "2012-01-09  5.59  24.00  ...  31.56  28.24  39.38  39.50  59.18  74.27   \n",
       "\n",
       "               WST     WY    XEL    XYL  \n",
       "Datetime                                 \n",
       "2012-01-03  19.075  19.10  27.34  25.14  \n",
       "2012-01-04  18.895  18.89  27.16  25.97  \n",
       "2012-01-05  18.915  18.78  27.28  25.60  \n",
       "2012-01-06  18.975  19.02  27.20  25.17  \n",
       "2012-01-09  19.015  18.79  27.22  25.27  \n",
       "\n",
       "[5 rows x 135 columns]"
      ]
     },
     "execution_count": 97,
     "metadata": {},
     "output_type": "execute_result"
    }
   ],
   "source": [
    "df_gnn1.head()"
   ]
  },
  {
   "cell_type": "code",
   "execution_count": 59,
   "id": "f6dde9da",
   "metadata": {
    "ExecuteTime": {
     "end_time": "2022-12-06T15:31:33.206099Z",
     "start_time": "2022-12-06T15:31:32.671258Z"
    }
   },
   "outputs": [],
   "source": [
    "from pypfopt import EfficientFrontier\n",
    "from pypfopt import risk_models\n",
    "from pypfopt import expected_returns"
   ]
  },
  {
   "cell_type": "code",
   "execution_count": 60,
   "id": "622c5ec0",
   "metadata": {
    "ExecuteTime": {
     "end_time": "2022-12-06T15:31:33.917095Z",
     "start_time": "2022-12-06T15:31:33.895096Z"
    }
   },
   "outputs": [],
   "source": [
    "def calculate_portfolio_performance(df):\n",
    "    # Calculate expected returns and sample covariance\n",
    "    mu = expected_returns.mean_historical_return(df)\n",
    "    S = risk_models.sample_cov(df)\n",
    "\n",
    "    # Optimize for maximal Sharpe ratio\n",
    "    ef = EfficientFrontier(mu, S)\n",
    "    raw_weights = ef.max_sharpe(risk_free_rate=0.0045)\n",
    "    cleaned_weights = ef.clean_weights()\n",
    "    # ef.save_weights_to_file(\"weights.csv\")  # saves to file\n",
    "    # print(cleaned_weights)\n",
    "    returns, volatility, sharpe = ef.portfolio_performance(verbose=True, risk_free_rate=0.0045)\n",
    "    return returns, volatility, sharpe"
   ]
  },
  {
   "cell_type": "code",
   "execution_count": 61,
   "id": "2c62018b",
   "metadata": {
    "ExecuteTime": {
     "end_time": "2022-12-06T15:31:35.845732Z",
     "start_time": "2022-12-06T15:31:35.641767Z"
    }
   },
   "outputs": [
    {
     "name": "stdout",
     "output_type": "stream",
     "text": [
      "Expected annual return: 22.3%\n",
      "Annual volatility: 10.3%\n",
      "Sharpe Ratio: 2.12\n"
     ]
    },
    {
     "data": {
      "text/plain": [
       "(0.22286876243577974, 0.10282919112217659, 2.1236067312474014)"
      ]
     },
     "execution_count": 61,
     "metadata": {},
     "output_type": "execute_result"
    }
   ],
   "source": [
    "calculate_portfolio_performance(df_gnn1)"
   ]
  },
  {
   "cell_type": "code",
   "execution_count": 59,
   "id": "6fc5d021",
   "metadata": {
    "ExecuteTime": {
     "end_time": "2022-11-15T22:39:10.559043Z",
     "start_time": "2022-11-15T22:39:10.536047Z"
    }
   },
   "outputs": [
    {
     "name": "stdout",
     "output_type": "stream",
     "text": [
      "\n"
     ]
    }
   ],
   "source": [
    "import random\n",
    "\n",
    "stock_random = random.sample(list(neg.columns), 166)\n",
    "df_random = neg[[c for c in neg.columns if c in stock_random]]"
   ]
  },
  {
   "cell_type": "code",
   "execution_count": 60,
   "id": "f96ce1c7",
   "metadata": {
    "ExecuteTime": {
     "end_time": "2022-11-15T22:39:13.615396Z",
     "start_time": "2022-11-15T22:39:13.563704Z"
    }
   },
   "outputs": [
    {
     "name": "stdout",
     "output_type": "stream",
     "text": [
      "Expected annual return: 17.1%\n",
      "Annual volatility: 11.2%\n",
      "Sharpe Ratio: 1.49\n"
     ]
    },
    {
     "data": {
      "text/plain": [
       "(0.17093607102380193, 0.11154402747891345, 1.4921110057216231)"
      ]
     },
     "execution_count": 60,
     "metadata": {},
     "output_type": "execute_result"
    }
   ],
   "source": [
    "calculate_portfolio_performance(df_random)"
   ]
  },
  {
   "cell_type": "code",
   "execution_count": null,
   "id": "bdf6ccd5",
   "metadata": {},
   "outputs": [],
   "source": []
  }
 ],
 "metadata": {
  "kernelspec": {
   "display_name": "Python 3 (ipykernel)",
   "language": "python",
   "name": "python3"
  },
  "language_info": {
   "codemirror_mode": {
    "name": "ipython",
    "version": 3
   },
   "file_extension": ".py",
   "mimetype": "text/x-python",
   "name": "python",
   "nbconvert_exporter": "python",
   "pygments_lexer": "ipython3",
   "version": "3.8.13"
  },
  "latex_envs": {
   "LaTeX_envs_menu_present": true,
   "autoclose": false,
   "autocomplete": true,
   "bibliofile": "biblio.bib",
   "cite_by": "apalike",
   "current_citInitial": 1,
   "eqLabelWithNumbers": true,
   "eqNumInitial": 1,
   "hotkeys": {
    "equation": "Ctrl-E",
    "itemize": "Ctrl-I"
   },
   "labels_anchors": false,
   "latex_user_defs": false,
   "report_style_numbering": false,
   "user_envs_cfg": false
  },
  "varInspector": {
   "cols": {
    "lenName": 16,
    "lenType": 16,
    "lenVar": 40
   },
   "kernels_config": {
    "python": {
     "delete_cmd_postfix": "",
     "delete_cmd_prefix": "del ",
     "library": "var_list.py",
     "varRefreshCmd": "print(var_dic_list())"
    },
    "r": {
     "delete_cmd_postfix": ") ",
     "delete_cmd_prefix": "rm(",
     "library": "var_list.r",
     "varRefreshCmd": "cat(var_dic_list()) "
    }
   },
   "types_to_exclude": [
    "module",
    "function",
    "builtin_function_or_method",
    "instance",
    "_Feature"
   ],
   "window_display": false
  }
 },
 "nbformat": 4,
 "nbformat_minor": 5
}
